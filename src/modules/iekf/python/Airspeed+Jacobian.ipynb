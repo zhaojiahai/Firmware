{
 "cells": [
  {
   "cell_type": "code",
   "execution_count": 29,
   "metadata": {
    "collapsed": true
   },
   "outputs": [],
   "source": [
    "import sympy\n",
    "import sympy.physics.mechanics as mech\n",
    "mech.init_vprinting()"
   ]
  },
  {
   "cell_type": "code",
   "execution_count": 30,
   "metadata": {
    "collapsed": false
   },
   "outputs": [],
   "source": [
    "phi, theta, psi, v_n, v_e, v_d, w_n, w_e, w_d = \\\n",
    " mech.dynamicsymbols('phi, theta, psi, v_n, v_e, v_d, w_n, w_e, w_d')\n",
    "frame_n = mech.ReferenceFrame('n')\n",
    "frame_b = frame_n.orientnew('b', 'Body', (psi, theta, phi), '321')"
   ]
  },
  {
   "cell_type": "code",
   "execution_count": 31,
   "metadata": {
    "collapsed": false
   },
   "outputs": [],
   "source": [
    "wind_n = w_n*frame_n.x + w_e*frame_n.y + w_d*frame_n.z\n",
    "vel_n = v_n*frame_n.x + v_e*frame_n.y + v_d*frame_n.z"
   ]
  },
  {
   "cell_type": "code",
   "execution_count": 32,
   "metadata": {
    "collapsed": false
   },
   "outputs": [
    {
     "data": {
      "text/latex": [
       "$$\\left[\\begin{matrix}\\operatorname{cos}\\left(\\psi\\right) \\operatorname{cos}\\left(\\theta\\right) & \\operatorname{sin}\\left(\\phi\\right) \\operatorname{sin}\\left(\\theta\\right) \\operatorname{cos}\\left(\\psi\\right) - \\operatorname{sin}\\left(\\psi\\right) \\operatorname{cos}\\left(\\phi\\right) & \\operatorname{sin}\\left(\\phi\\right) \\operatorname{sin}\\left(\\psi\\right) + \\operatorname{sin}\\left(\\theta\\right) \\operatorname{cos}\\left(\\phi\\right) \\operatorname{cos}\\left(\\psi\\right)\\\\\\operatorname{sin}\\left(\\psi\\right) \\operatorname{cos}\\left(\\theta\\right) & \\operatorname{sin}\\left(\\phi\\right) \\operatorname{sin}\\left(\\psi\\right) \\operatorname{sin}\\left(\\theta\\right) + \\operatorname{cos}\\left(\\phi\\right) \\operatorname{cos}\\left(\\psi\\right) & - \\operatorname{sin}\\left(\\phi\\right) \\operatorname{cos}\\left(\\psi\\right) + \\operatorname{sin}\\left(\\psi\\right) \\operatorname{sin}\\left(\\theta\\right) \\operatorname{cos}\\left(\\phi\\right)\\\\- \\operatorname{sin}\\left(\\theta\\right) & \\operatorname{sin}\\left(\\phi\\right) \\operatorname{cos}\\left(\\theta\\right) & \\operatorname{cos}\\left(\\phi\\right) \\operatorname{cos}\\left(\\theta\\right)\\end{matrix}\\right]$$"
      ],
      "text/plain": [
       "⎡cos(ψ)⋅cos(θ)  sin(φ)⋅sin(θ)⋅cos(ψ) - sin(ψ)⋅cos(φ)  sin(φ)⋅sin(ψ) + sin(θ)⋅c\n",
       "⎢                                                                             \n",
       "⎢sin(ψ)⋅cos(θ)  sin(φ)⋅sin(ψ)⋅sin(θ) + cos(φ)⋅cos(ψ)  -sin(φ)⋅cos(ψ) + sin(ψ)⋅\n",
       "⎢                                                                             \n",
       "⎣   -sin(θ)                sin(φ)⋅cos(θ)                          cos(φ)⋅cos(θ\n",
       "\n",
       "os(φ)⋅cos(ψ) ⎤\n",
       "             ⎥\n",
       "sin(θ)⋅cos(φ)⎥\n",
       "             ⎥\n",
       ")            ⎦"
      ]
     },
     "execution_count": 32,
     "metadata": {},
     "output_type": "execute_result"
    }
   ],
   "source": [
    "frame_n.dcm(frame_b)"
   ]
  },
  {
   "cell_type": "code",
   "execution_count": 34,
   "metadata": {
    "collapsed": false
   },
   "outputs": [
    {
     "data": {
      "image/png": "[encoded data removed]",
      "text/latex": [
       "$$- \\left(- v_{d} + w_{d}\\right) \\operatorname{sin}\\left(\\theta\\right) + \\left(- v_{e} + w_{e}\\right) \\operatorname{sin}\\left(\\psi\\right) \\operatorname{cos}\\left(\\theta\\right) + \\left(- v_{n} + w_{n}\\right) \\operatorname{cos}\\left(\\psi\\right) \\operatorname{cos}\\left(\\theta\\right)$$"
      ],
      "text/plain": [
       "-(-v_d + w_d)⋅sin(θ) + (-vₑ + wₑ)⋅sin(ψ)⋅cos(θ) + (-vₙ + wₙ)⋅cos(ψ)⋅cos(θ)"
      ]
     },
     "execution_count": 34,
     "metadata": {},
     "output_type": "execute_result"
    }
   ],
   "source": [
    "rel_wind = wind_n - vel_n\n",
    "rel_wind.dot(frame_b.x)"
   ]
  },
  {
   "cell_type": "code",
   "execution_count": 39,
   "metadata": {
    "collapsed": false
   },
   "outputs": [
    {
     "data": {
      "text/latex": [
       "$$\\left[\\begin{matrix}\\operatorname{cos}\\left(\\psi\\right) \\operatorname{cos}\\left(\\theta\\right) & \\operatorname{sin}\\left(\\phi\\right) \\operatorname{sin}\\left(\\theta\\right) \\operatorname{cos}\\left(\\psi\\right) - \\operatorname{sin}\\left(\\psi\\right) \\operatorname{cos}\\left(\\phi\\right) & \\operatorname{sin}\\left(\\phi\\right) \\operatorname{sin}\\left(\\psi\\right) + \\operatorname{sin}\\left(\\theta\\right) \\operatorname{cos}\\left(\\phi\\right) \\operatorname{cos}\\left(\\psi\\right)\\\\\\operatorname{sin}\\left(\\psi\\right) \\operatorname{cos}\\left(\\theta\\right) & \\operatorname{sin}\\left(\\phi\\right) \\operatorname{sin}\\left(\\psi\\right) \\operatorname{sin}\\left(\\theta\\right) + \\operatorname{cos}\\left(\\phi\\right) \\operatorname{cos}\\left(\\psi\\right) & - \\operatorname{sin}\\left(\\phi\\right) \\operatorname{cos}\\left(\\psi\\right) + \\operatorname{sin}\\left(\\psi\\right) \\operatorname{sin}\\left(\\theta\\right) \\operatorname{cos}\\left(\\phi\\right)\\\\- \\operatorname{sin}\\left(\\theta\\right) & \\operatorname{sin}\\left(\\phi\\right) \\operatorname{cos}\\left(\\theta\\right) & \\operatorname{cos}\\left(\\phi\\right) \\operatorname{cos}\\left(\\theta\\right)\\end{matrix}\\right]$$"
      ],
      "text/plain": [
       "⎡cos(ψ)⋅cos(θ)  sin(φ)⋅sin(θ)⋅cos(ψ) - sin(ψ)⋅cos(φ)  sin(φ)⋅sin(ψ) + sin(θ)⋅c\n",
       "⎢                                                                             \n",
       "⎢sin(ψ)⋅cos(θ)  sin(φ)⋅sin(ψ)⋅sin(θ) + cos(φ)⋅cos(ψ)  -sin(φ)⋅cos(ψ) + sin(ψ)⋅\n",
       "⎢                                                                             \n",
       "⎣   -sin(θ)                sin(φ)⋅cos(θ)                          cos(φ)⋅cos(θ\n",
       "\n",
       "os(φ)⋅cos(ψ) ⎤\n",
       "             ⎥\n",
       "sin(θ)⋅cos(φ)⎥\n",
       "             ⎥\n",
       ")            ⎦"
      ]
     },
     "execution_count": 39,
     "metadata": {},
     "output_type": "execute_result"
    }
   ],
   "source": [
    "frame_n.dcm(frame_b)"
   ]
  },
  {
   "cell_type": "code",
   "execution_count": null,
   "metadata": {
    "collapsed": true
   },
   "outputs": [],
   "source": []
  }
 ],
 "metadata": {
  "anaconda-cloud": {},
  "kernelspec": {
   "display_name": "Python [conda root]",
   "language": "python",
   "name": "conda-root-py"
  },
  "language_info": {
   "codemirror_mode": {
    "name": "ipython",
    "version": 3
   },
   "file_extension": ".py",
   "mimetype": "text/x-python",
   "name": "python",
   "nbconvert_exporter": "python",
   "pygments_lexer": "ipython3",
   "version": "3.5.2"
  }
 },
 "nbformat": 4,
 "nbformat_minor": 1
}
